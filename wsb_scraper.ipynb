{
 "cells": [
  {
   "cell_type": "code",
   "execution_count": 96,
   "metadata": {},
   "outputs": [],
   "source": [
    "import pandas as pd\n",
    "import praw\n",
    "from praw.models import MoreComments\n",
    "import re\n",
    "from nltk.tokenize import word_tokenize, RegexpTokenizer\n"
   ]
  },
  {
   "cell_type": "code",
   "execution_count": 97,
   "metadata": {
    "collapsed": true
   },
   "outputs": [],
   "source": [
    "CLIENT_ID = \"ZOp9gH6lJ26wOg\"\n",
    "CLIENT_SECRET = \"RvKRAGfps4AuP9b7t4jEmh_v09cB4A\" \n",
    "\n",
    "reddit = praw.Reddit(\n",
    "  client_id = CLIENT_ID,\n",
    "  client_secret = CLIENT_SECRET,\n",
    "  user_agent = \"Mozilla/5.0 (Macintosh; Intel Mac OS X 10_15_7) AppleWebKit/537.36 (KHTML, like Gecko) Chrome/89.0.4389.90 Safari/537.36\"\n",
    ")"
   ]
  },
  {
   "cell_type": "code",
   "execution_count": 98,
   "metadata": {
    "scrolled": true
   },
   "outputs": [
    {
     "data": {
      "text/html": [
       "<div>\n",
       "<style>\n",
       "    .dataframe thead tr:only-child th {\n",
       "        text-align: right;\n",
       "    }\n",
       "\n",
       "    .dataframe thead th {\n",
       "        text-align: left;\n",
       "    }\n",
       "\n",
       "    .dataframe tbody tr th {\n",
       "        vertical-align: top;\n",
       "    }\n",
       "</style>\n",
       "<table border=\"1\" class=\"dataframe\">\n",
       "  <thead>\n",
       "    <tr style=\"text-align: right;\">\n",
       "      <th></th>\n",
       "      <th>title</th>\n",
       "      <th>text</th>\n",
       "      <th>upvotes</th>\n",
       "      <th>num_comments</th>\n",
       "      <th>url</th>\n",
       "    </tr>\n",
       "  </thead>\n",
       "  <tbody>\n",
       "    <tr>\n",
       "      <th>0</th>\n",
       "      <td>What Are Your Moves Tomorrow, April 09, 2021</td>\n",
       "      <td>Your daily trading discussion thread. Please k...</td>\n",
       "      <td>446</td>\n",
       "      <td>12536</td>\n",
       "      <td>https://www.reddit.com/r/wallstreetbets/commen...</td>\n",
       "    </tr>\n",
       "    <tr>\n",
       "      <th>1</th>\n",
       "      <td>WSB Rules - Please Read Before Posting</td>\n",
       "      <td># Welcome to WSB!\\n\\n\\---\\n\\nAdditional readin...</td>\n",
       "      <td>202</td>\n",
       "      <td>65</td>\n",
       "      <td>https://www.reddit.com/r/wallstreetbets/commen...</td>\n",
       "    </tr>\n",
       "    <tr>\n",
       "      <th>2</th>\n",
       "      <td>I told my wife I’ve only invested $5,000. Happ...</td>\n",
       "      <td></td>\n",
       "      <td>12187</td>\n",
       "      <td>1059</td>\n",
       "      <td>https://i.redd.it/ajm5pemrt1s61.jpg</td>\n",
       "    </tr>\n",
       "    <tr>\n",
       "      <th>3</th>\n",
       "      <td>Robinhood failed to disclose certain trading d...</td>\n",
       "      <td></td>\n",
       "      <td>2949</td>\n",
       "      <td>153</td>\n",
       "      <td>https://markets.businessinsider.com/news/stock...</td>\n",
       "    </tr>\n",
       "    <tr>\n",
       "      <th>4</th>\n",
       "      <td>CHARLES KNOWS WHATS GOOD... WE DIDNT RUN AND H...</td>\n",
       "      <td></td>\n",
       "      <td>46044</td>\n",
       "      <td>1506</td>\n",
       "      <td>https://v.redd.it/kdaw80nc30s61</td>\n",
       "    </tr>\n",
       "  </tbody>\n",
       "</table>\n",
       "</div>"
      ],
      "text/plain": [
       "                                               title  \\\n",
       "0       What Are Your Moves Tomorrow, April 09, 2021   \n",
       "1             WSB Rules - Please Read Before Posting   \n",
       "2  I told my wife I’ve only invested $5,000. Happ...   \n",
       "3  Robinhood failed to disclose certain trading d...   \n",
       "4  CHARLES KNOWS WHATS GOOD... WE DIDNT RUN AND H...   \n",
       "\n",
       "                                                text  upvotes  num_comments  \\\n",
       "0  Your daily trading discussion thread. Please k...      446         12536   \n",
       "1  # Welcome to WSB!\\n\\n\\---\\n\\nAdditional readin...      202            65   \n",
       "2                                                       12187          1059   \n",
       "3                                                        2949           153   \n",
       "4                                                       46044          1506   \n",
       "\n",
       "                                                 url  \n",
       "0  https://www.reddit.com/r/wallstreetbets/commen...  \n",
       "1  https://www.reddit.com/r/wallstreetbets/commen...  \n",
       "2                https://i.redd.it/ajm5pemrt1s61.jpg  \n",
       "3  https://markets.businessinsider.com/news/stock...  \n",
       "4                    https://v.redd.it/kdaw80nc30s61  "
      ]
     },
     "execution_count": 98,
     "metadata": {},
     "output_type": "execute_result"
    }
   ],
   "source": [
    "sub = \"wallstreetbets\"\n",
    "posts = reddit.subreddit(sub).hot(limit = 500)\n",
    "data = []\n",
    "for p in posts:\n",
    "    data.append([p.title, p.selftext, p.score, p.num_comments, p.url])\n",
    "    \n",
    "data = pd.DataFrame(data = data, columns=[\"title\", \"text\", \"upvotes\", \"num_comments\", \"url\"])\n",
    "data.head()"
   ]
  },
  {
   "cell_type": "code",
   "execution_count": 100,
   "metadata": {},
   "outputs": [],
   "source": [
    "def get_comments(url):\n",
    "    submission = reddit.submission(url=url)\n",
    "    comments = []\n",
    "    # Iterate through posts and get comments. NOt all comments have \".body\" because thety could be \"load more\"\n",
    "    for top_level_comment in submission.comments:\n",
    "        if isinstance(top_level_comment, MoreComments):\n",
    "            continue\n",
    "        comments.append(top_level_comment.body)\n",
    "    return comments\n",
    "        \n",
    "test_url = data.iloc[0, 4]\n",
    "#print(get_comments(test_url)[:5])"
   ]
  },
  {
   "cell_type": "code",
   "execution_count": 105,
   "metadata": {},
   "outputs": [],
   "source": [
    "df = pd.read_csv(\"./all_stocks.csv\")\n",
    "ticker_set = set(df[\"Symbol\"].values)\n",
    "ticker_counts = {}\n",
    "ticker_posts = []\n",
    "\n",
    "# TODO: fine tune words to ignore\n",
    "ignore_words = set([\"ON\", \"IT\", \"AT\", \"ARE\", \"FOR\", \"YOLO\", \"PUMP\", \"RH\", \"EOD\", \"IPO\", \"ATH\", \"A\", \"B\", \"C\", \"D\", \"E\", \"F\", \"G\", \"H\", \"I\", \"J\", \"K\", \"L\", \"M\", \"N\", \"O\", \"P\", \n",
    "        \"Q\", \"R\", \"S\", \"T\", \"U\", \"V\", \"W\", \"X\", \"Y\", \"Z\"])\n",
    "\n",
    "for index, row in data.iterrows():\n",
    "    title = row[\"title\"]# + \" \" + row[\"text\"]\n",
    "    words = re.findall(r'[A-Z]+', title)\n",
    "    #words = re.findall(r'[A-Za-x][\\S]*', title)\n",
    "    ticks = [w.upper() for w in words if w.upper() in ticker_set - ignore_words]\n",
    "    for t in ticks:\n",
    "        if t in ticker_counts:\n",
    "            ticker_counts[t] += 1\n",
    "        else:\n",
    "            ticker_counts[t] = 1 \n",
    "        ticker_posts.append([t, title])\n",
    "    \n",
    "\n",
    "ticker_posts = pd.DataFrame(data = ticker_posts, columns = [\"ticker\", \"text\"])\n",
    "    "
   ]
  },
  {
   "cell_type": "code",
   "execution_count": 106,
   "metadata": {},
   "outputs": [
    {
     "data": {
      "text/plain": [
       "[('GME', 28),\n",
       " ('PLTR', 9),\n",
       " ('ASO', 8),\n",
       " ('DD', 8),\n",
       " ('VIAC', 7),\n",
       " ('RKT', 5),\n",
       " ('BB', 4),\n",
       " ('FUBO', 3),\n",
       " ('AMD', 3),\n",
       " ('AAPL', 3)]"
      ]
     },
     "execution_count": 106,
     "metadata": {},
     "output_type": "execute_result"
    }
   ],
   "source": [
    "top = sorted(ticker_counts.items(), key = lambda x: x[1], reverse = True)\n",
    "top[:10]"
   ]
  },
  {
   "cell_type": "code",
   "execution_count": 109,
   "metadata": {},
   "outputs": [
    {
     "data": {
      "text/html": [
       "<div>\n",
       "<style>\n",
       "    .dataframe thead tr:only-child th {\n",
       "        text-align: right;\n",
       "    }\n",
       "\n",
       "    .dataframe thead th {\n",
       "        text-align: left;\n",
       "    }\n",
       "\n",
       "    .dataframe tbody tr th {\n",
       "        vertical-align: top;\n",
       "    }\n",
       "</style>\n",
       "<table border=\"1\" class=\"dataframe\">\n",
       "  <thead>\n",
       "    <tr style=\"text-align: right;\">\n",
       "      <th></th>\n",
       "      <th>ticker</th>\n",
       "      <th>text</th>\n",
       "    </tr>\n",
       "  </thead>\n",
       "  <tbody>\n",
       "    <tr>\n",
       "      <th>0</th>\n",
       "      <td>GOOD</td>\n",
       "      <td>CHARLES KNOWS WHATS GOOD... WE DIDNT RUN AND H...</td>\n",
       "    </tr>\n",
       "    <tr>\n",
       "      <th>1</th>\n",
       "      <td>RUN</td>\n",
       "      <td>CHARLES KNOWS WHATS GOOD... WE DIDNT RUN AND H...</td>\n",
       "    </tr>\n",
       "    <tr>\n",
       "      <th>2</th>\n",
       "      <td>GME</td>\n",
       "      <td>GME Hype for the retards</td>\n",
       "    </tr>\n",
       "    <tr>\n",
       "      <th>3</th>\n",
       "      <td>GME</td>\n",
       "      <td>How to vote in GME shareholders meeting For Fi...</td>\n",
       "    </tr>\n",
       "    <tr>\n",
       "      <th>4</th>\n",
       "      <td>GME</td>\n",
       "      <td>GME Megathread for April 08, 2021</td>\n",
       "    </tr>\n",
       "  </tbody>\n",
       "</table>\n",
       "</div>"
      ],
      "text/plain": [
       "  ticker                                               text\n",
       "0   GOOD  CHARLES KNOWS WHATS GOOD... WE DIDNT RUN AND H...\n",
       "1    RUN  CHARLES KNOWS WHATS GOOD... WE DIDNT RUN AND H...\n",
       "2    GME                           GME Hype for the retards\n",
       "3    GME  How to vote in GME shareholders meeting For Fi...\n",
       "4    GME                  GME Megathread for April 08, 2021"
      ]
     },
     "execution_count": 109,
     "metadata": {},
     "output_type": "execute_result"
    }
   ],
   "source": [
    "ticker_posts.head()"
   ]
  },
  {
   "cell_type": "code",
   "execution_count": null,
   "metadata": {
    "collapsed": true
   },
   "outputs": [],
   "source": []
  }
 ],
 "metadata": {
  "kernelspec": {
   "display_name": "Python 3",
   "language": "python",
   "name": "python3"
  },
  "language_info": {
   "codemirror_mode": {
    "name": "ipython",
    "version": 3
   },
   "file_extension": ".py",
   "mimetype": "text/x-python",
   "name": "python",
   "nbconvert_exporter": "python",
   "pygments_lexer": "ipython3",
   "version": "3.6.10"
  }
 },
 "nbformat": 4,
 "nbformat_minor": 2
}
